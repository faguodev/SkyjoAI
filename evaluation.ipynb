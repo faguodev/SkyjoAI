{
 "cells": [
  {
   "metadata": {},
   "cell_type": "code",
   "outputs": [],
   "execution_count": null,
   "source": [
    "from collections import defaultdict\n",
    "import matplotlib.pyplot as plt\n",
    "import seaborn as sns\n",
    "import json\n",
    "import os\n",
    "import numpy as np\n",
    "import re\n",
    "\n",
    "sns.set_theme()"
   ],
   "id": "fe1df19d1cd7afda"
  },
  {
   "metadata": {},
   "cell_type": "code",
   "outputs": [],
   "execution_count": null,
   "source": [
    "def get_metrics(\n",
    "        logs_path,\n",
    "        hist_stats_names=(\"policy_main_reward\", \"win_rate\", \"final_score_0\", \"final_score_1\", \"undesirable_action_0\")\n",
    "):\n",
    "    files = [os.path.join(logs_path, f) for f in os.listdir(logs_path) if os.path.isfile(os.path.join(logs_path, f)) and f.startswith('result_iteration_')]\n",
    "    files.sort(key=lambda var:[int(x) if x.isdigit() else x for x in re.findall(r'[^0-9]|[0-9]+', var)])\n",
    "\n",
    "    hist_stats = defaultdict(list)\n",
    "    for file in files:\n",
    "        with open(file) as f:\n",
    "            d = json.load(f)\n",
    "            for hist_stat in hist_stats_names:\n",
    "                if hist_stat not in d[\"env_runners\"][\"hist_stats\"]:\n",
    "                    continue\n",
    "                hist_stats[hist_stat].append(np.array(d[\"env_runners\"][\"hist_stats\"][hist_stat]))\n",
    "                hist_stats[hist_stat+\"_mean\"].append(np.mean(hist_stats[hist_stat][-1]))\n",
    "                hist_stats[hist_stat+\"_min\"].append(np.mean(hist_stats[hist_stat][-1]))\n",
    "                hist_stats[hist_stat+\"_max\"].append(np.mean(hist_stats[hist_stat][-1]))\n",
    "\n",
    "    return hist_stats"
   ],
   "id": "f492aaad5e635977"
  },
  {
   "metadata": {},
   "cell_type": "code",
   "outputs": [],
   "execution_count": null,
   "source": [
    "# Add all paths to the experiments here\n",
    "logs_to_evaluate = [\n",
    "    # \"logs/grid_search/obs_simple_indirect_True_vf_True_cr_5.0_ar_5_decay_0.98_ent_0.03_nn_[2048, 2048, 1024, 512]\",\n",
    "    # \"logs/grid_search/obs_simple_indirect_False_vf_True_cr_5.0_ar_5_decay_0.98_ent_0.03_nn_[2048, 2048, 1024, 512]\",\n",
    "    # \"logs/grid_search/obs_onehot_indirect_True_vf_True_cr_5.0_ar_5_decay_0.98_ent_0.03_nn_[2048, 2048, 1024, 512]\",\n",
    "    # \"logs/grid_search/obs_onehot_indirect_False_vf_True_cr_5.0_ar_5_decay_0.98_ent_0.03_nn_[2048, 2048, 1024, 512]\",\n",
    "    # \"logs/grid_search/obs_simple_indirect_True_vf_True_cr_0.0_ar_5_decay_0.98_ent_0.01_nn_[2048, 2048, 1024, 512]\",\n",
    "    # \"logs/grid_search/obs_simple_indirect_True_vf_True_cr_5_ar_1_decay_0.95_ent_0.01_nn_[2048, 2048, 1024, 512]\",\n",
    "    # \"logs/grid_search/obs_simple_indirect_True_vf_True_cr_5_ar_1_decay_0.995_ent_0.01_nn_[2048, 2048, 1024, 512]\",\n",
    "    # \"logs/grid_search/obs_simple_indirect_True_vf_True_cr_5_ar_1_decay_1_ent_0.01_nn_[2048, 2048, 1024, 512]\",\n",
    "    # \"logs/grid_search/obs_simple_indirect_True_vf_True_cr_5_ar_5_decay_0.98_ent_0.01_nn_[2048, 2048, 1024, 512]\",\n",
    "    # \"logs/grid_search/obs_simple_indirect_True_vf_True_cr_5.0_ar_1_decay_0.995_ent_0.01_nn_[2048, 2048, 1024, 512]\",\n",
    "    # \"logs/grid_search/obs_simple_indirect_True_vf_True_cr_5.0_ar_5_decay_0.98_ent_0.01_nn_[2048, 2048, 1024, 512]\",\n",
    "    # \"logs/grid_search/obs_simple_indirect_True_vf_True_cr_5.0_ar_5_decay_1_ent_0.01_nn_[512, 256, 128]\",\n",
    "    \"logs/self_play/obs_eff_one_hot_indirect_True_vf_True_cr_5_ar_1_decay_0.996_ent_0.03_nn_[32, 32]_sebischeme\",\n",
    "    \"logs/self_play/obs_eff_one_hot_indirect_True_vf_True_cr_5_ar_1_decay_0.995_ent_0.03_nn_[64, 64]_sebischeme\",\n",
    "    \"logs/self_play/obs_simple_indirect_True_vf_True_cr_5_ar_1_decay_0.995_ent_0.03_nn_[64]_sebischeme\",\n",
    "    #\"logs/grid_search/obs_simple_indirect_False_vf_True_cr_0_ar_1_decay_1_ent_0.03_nn_[2048, 2048, 1024, 512]_af_tanh\",\n",
    "    #\"logs/self_play/obs_simple_indirect_True_vf_True_cr_5_ar_1_decay_1_ent_0.03_nn_[32]_sebischeme\",\n",
    "    #\"logs/grid_search/obs_simple_indirect_False_vf_True_cr_0_ar_1_decay_1_ent_0.03_nn_[256, 256]_af_relu\"\n",
    "\n",
    "]\n",
    "\n",
    "all_hist_stats = []\n",
    "for log_path in logs_to_evaluate:\n",
    "    all_hist_stats.append(get_metrics(log_path))\n",
    "\n",
    "plt.rcParams[\"figure.figsize\"] = (12, 8)"
   ],
   "id": "d6163e873bc231b8"
  },
  {
   "metadata": {},
   "cell_type": "code",
   "outputs": [],
   "execution_count": null,
   "source": [
    "# Print mean mean final score over last 100 iterations\n",
    "for i, log_path in enumerate(logs_to_evaluate):\n",
    "    mean_final_score = np.mean(all_hist_stats[i][\"final_score_0_mean\"][-100:])\n",
    "    print(f\"{log_path}: {mean_final_score}\")"
   ],
   "id": "20135853401c4635"
  },
  {
   "metadata": {},
   "cell_type": "code",
   "outputs": [],
   "execution_count": null,
   "source": [
    "for logs, hist_stats in zip(logs_to_evaluate, all_hist_stats):\n",
    "    sns.lineplot(hist_stats[\"win_rate_mean\"], label=logs, alpha=0.7)\n",
    "plt.title(\"Win Rate\")\n",
    "plt.legend()\n",
    "plt.show()"
   ],
   "id": "a97f2907dc4eead4"
  },
  {
   "metadata": {},
   "cell_type": "code",
   "outputs": [],
   "execution_count": null,
   "source": [
    "for logs, hist_stats in zip(logs_to_evaluate, all_hist_stats):\n",
    "    sns.lineplot(hist_stats[\"final_score_0_mean\"], label=logs, alpha=0.7)\n",
    "plt.title(\"Average Final Score\")\n",
    "plt.legend()\n",
    "plt.show()"
   ],
   "id": "4e94c79a5b3a33c3"
  },
  {
   "metadata": {},
   "cell_type": "code",
   "outputs": [],
   "execution_count": null,
   "source": [
    "for logs, hist_stats in zip(logs_to_evaluate, all_hist_stats):\n",
    "    sns.lineplot(hist_stats[\"policy_main_reward_mean\"], label=logs, alpha=0.7)\n",
    "plt.title(\"Mean Reward\")\n",
    "plt.legend()\n",
    "plt.show()"
   ],
   "id": "9c3e1c363817cea"
  },
  {
   "metadata": {},
   "cell_type": "code",
   "outputs": [],
   "execution_count": null,
   "source": [
    "plt.show()\n",
    "for logs, hist_stats in zip(logs_to_evaluate, all_hist_stats):\n",
    "    undes_actions = hist_stats[\"undesirable_action_0_mean\"]\n",
    "    N =len(undes_actions)\n",
    "    mean_undes_actions = np.zeros(N)\n",
    "    for i in range(N):\n",
    "        if i < 20:\n",
    "            mean_undes_actions[i] = np.mean(undes_actions[:i+20])\n",
    "        elif (i+20) >= N:\n",
    "            mean_undes_actions[i] = np.mean(undes_actions[i-20:])\n",
    "        else:\n",
    "            mean_undes_actions[i] = np.mean(undes_actions[i-20:i+20])\n",
    "    sns.lineplot(hist_stats[\"undesirable_action_0_mean\"], label=logs, alpha=0.7)\n",
    "    sns.lineplot(mean_undes_actions, alpha=0.8, c = \"black\")\n",
    "plt.title(\"Undesirable Actions taken\")\n",
    "plt.legend()\n",
    "plt.show()"
   ],
   "id": "c9e8631320753815"
  }
 ],
 "metadata": {
  "kernelspec": {
   "display_name": "env_sebi",
   "language": "python",
   "name": "python3"
  },
  "language_info": {
   "codemirror_mode": {
    "name": "ipython",
    "version": 3
   },
   "file_extension": ".py",
   "mimetype": "text/x-python",
   "name": "python",
   "nbconvert_exporter": "python",
   "pygments_lexer": "ipython3",
   "version": "3.12.3"
  }
 },
 "nbformat": 4,
 "nbformat_minor": 5
}
