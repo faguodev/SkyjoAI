{
 "cells": [
  {
   "metadata": {
    "ExecuteTime": {
     "end_time": "2024-12-02T19:59:59.536062Z",
     "start_time": "2024-12-02T19:59:57.209073Z"
    }
   },
   "cell_type": "code",
   "source": [
    "import ray\n",
    "from ray import tune\n",
    "from ray.rllib.env import PettingZooEnv\n",
    "# from ray.rllib.agents.ppo import PPOTrainer\n",
    "from ray.rllib.models import ModelCatalog\n",
    "from ray.tune.registry import register_env\n",
    "from environment import skyjo_env  # Update with your environment module\n",
    "\n",
    "# skyjo_env_cfg = {\"num_players\": 3, \"render_mode\":\"human\"}\n",
    "\n",
    "# Register the PettingZoo environment with RLlib\n",
    "def env_creator(config):\n",
    "    return skyjo_env.env(**config)\n",
    "\n",
    "register_env(\"SkyjoEnv\", env_creator)\n",
    "\n",
    "# RLlib configuration for PPO\n",
    "config = {\n",
    "    \"env\": \"SkyjoEnv\",\n",
    "    \"env_config\": {  # Configuration to initialize the Skyjo environment\n",
    "        \"num_players\": 3,\n",
    "        \"score_penalty\": 2.0,\n",
    "        \"observe_other_player_indirect\": True,\n",
    "        \"mean_reward\": 1.0,\n",
    "        \"reward_refunded\": 0.001,\n",
    "        \"render_mode\": None,\n",
    "    },\n",
    "    \"multiagent\": {\n",
    "        \"policies\": {\n",
    "            i: (None, skyjo_env.SimpleSkyjoEnv().observation_space(i),\n",
    "                           skyjo_env.SimpleSkyjoEnv().action_space(i), {})\n",
    "            for i in range(2)  # Adjust based on num_players\n",
    "        },\n",
    "        \"policy_mapping_fn\": lambda agent_id: agent_id,  # Map each agent to its own policy\n",
    "    },\n",
    "    \"framework\": \"torch\",  # Use Torch or TensorFlow\n",
    "    \"num_workers\": 1,  # Adjust for your compute setup\n",
    "    \"train_batch_size\": 4000,\n",
    "    \"rollout_fragment_length\": 200,\n",
    "    \"sgd_minibatch_size\": 128,\n",
    "    \"num_sgd_iter\": 10,\n",
    "    \"lr\": 1e-4,\n",
    "    \"model\": {\n",
    "        \"fcnet_hiddens\": [256, 256],\n",
    "        \"fcnet_activation\": \"relu\",\n",
    "    },\n",
    "}\n",
    "\n",
    "\n",
    "ray.init(ignore_reinit_error=True)\n",
    "\n",
    "# Start training with PPO\n",
    "analysis = tune.run(\n",
    "    \"PPO\",\n",
    "    config=config,\n",
    "    stop={\"training_iteration\": 50},  # Adjust as needed\n",
    "    checkpoint_freq=10,\n",
    ")\n",
    "\n",
    "# Print training results\n",
    "print(\"Training completed. Best checkpoint is located at:\", analysis.best_checkpoint)"
   ],
   "id": "d14ba228a53b1ab0",
   "outputs": [
    {
     "name": "stderr",
     "output_type": "stream",
     "text": [
      "2024-12-02 20:59:58,072\tINFO worker.py:1786 -- Started a local Ray instance.\n",
      "2024-12-02 20:59:58,812\tINFO tune.py:616 -- [output] This uses the legacy output and progress reporter, as Jupyter notebooks are not supported by the new engine, yet. For more information, please see https://github.com/ray-project/ray/issues/36949\n",
      "/home/henry/Documents/SharedDocuments/Uni/TU/3.Semester/AdvRL/SkyjoAI/.venv/lib/python3.11/site-packages/gymnasium/spaces/box.py:130: UserWarning: \u001B[33mWARN: Box bound precision lowered by casting to float32\u001B[0m\n",
      "  gym.logger.warn(f\"Box bound precision lowered by casting to {self.dtype}\")\n",
      "/home/henry/Documents/SharedDocuments/Uni/TU/3.Semester/AdvRL/SkyjoAI/.venv/lib/python3.11/site-packages/gymnasium/utils/passive_env_checker.py:164: UserWarning: \u001B[33mWARN: The obs returned by the `reset()` method was expecting numpy array dtype to be float32, actual type: float64\u001B[0m\n",
      "  logger.warn(\n",
      "/home/henry/Documents/SharedDocuments/Uni/TU/3.Semester/AdvRL/SkyjoAI/.venv/lib/python3.11/site-packages/gymnasium/utils/passive_env_checker.py:188: UserWarning: \u001B[33mWARN: The obs returned by the `reset()` method is not within the observation space.\u001B[0m\n",
      "  logger.warn(f\"{pre} is not within the observation space.\")\n"
     ]
    },
    {
     "data": {
      "text/plain": [
       "<IPython.core.display.HTML object>"
      ],
      "text/html": []
     },
     "metadata": {},
     "output_type": "display_data"
    },
    {
     "ename": "ValueError",
     "evalue": "PolicyID `0` not valid! IDs must be a non-empty string, must not contain characters that are also disallowed file- or directory names on Unix/Windows and must not end with a dot `.` or a space ` `.",
     "output_type": "error",
     "traceback": [
      "\u001B[0;31m---------------------------------------------------------------------------\u001B[0m",
      "\u001B[0;31mValueError\u001B[0m                                Traceback (most recent call last)",
      "Cell \u001B[0;32mIn[5], line 53\u001B[0m\n\u001B[1;32m     50\u001B[0m ray\u001B[38;5;241m.\u001B[39minit(ignore_reinit_error\u001B[38;5;241m=\u001B[39m\u001B[38;5;28;01mTrue\u001B[39;00m)\n\u001B[1;32m     52\u001B[0m \u001B[38;5;66;03m# Start training with PPO\u001B[39;00m\n\u001B[0;32m---> 53\u001B[0m analysis \u001B[38;5;241m=\u001B[39m \u001B[43mtune\u001B[49m\u001B[38;5;241;43m.\u001B[39;49m\u001B[43mrun\u001B[49m\u001B[43m(\u001B[49m\n\u001B[1;32m     54\u001B[0m \u001B[43m    \u001B[49m\u001B[38;5;124;43m\"\u001B[39;49m\u001B[38;5;124;43mPPO\u001B[39;49m\u001B[38;5;124;43m\"\u001B[39;49m\u001B[43m,\u001B[49m\n\u001B[1;32m     55\u001B[0m \u001B[43m    \u001B[49m\u001B[43mconfig\u001B[49m\u001B[38;5;241;43m=\u001B[39;49m\u001B[43mconfig\u001B[49m\u001B[43m,\u001B[49m\n\u001B[1;32m     56\u001B[0m \u001B[43m    \u001B[49m\u001B[43mstop\u001B[49m\u001B[38;5;241;43m=\u001B[39;49m\u001B[43m{\u001B[49m\u001B[38;5;124;43m\"\u001B[39;49m\u001B[38;5;124;43mtraining_iteration\u001B[39;49m\u001B[38;5;124;43m\"\u001B[39;49m\u001B[43m:\u001B[49m\u001B[43m \u001B[49m\u001B[38;5;241;43m50\u001B[39;49m\u001B[43m}\u001B[49m\u001B[43m,\u001B[49m\u001B[43m  \u001B[49m\u001B[38;5;66;43;03m# Adjust as needed\u001B[39;49;00m\n\u001B[1;32m     57\u001B[0m \u001B[43m    \u001B[49m\u001B[43mcheckpoint_freq\u001B[49m\u001B[38;5;241;43m=\u001B[39;49m\u001B[38;5;241;43m10\u001B[39;49m\u001B[43m,\u001B[49m\n\u001B[1;32m     58\u001B[0m \u001B[43m)\u001B[49m\n\u001B[1;32m     60\u001B[0m \u001B[38;5;66;03m# Print training results\u001B[39;00m\n\u001B[1;32m     61\u001B[0m \u001B[38;5;28mprint\u001B[39m(\u001B[38;5;124m\"\u001B[39m\u001B[38;5;124mTraining completed. Best checkpoint is located at:\u001B[39m\u001B[38;5;124m\"\u001B[39m, analysis\u001B[38;5;241m.\u001B[39mbest_checkpoint)\n",
      "File \u001B[0;32m~/Documents/SharedDocuments/Uni/TU/3.Semester/AdvRL/SkyjoAI/.venv/lib/python3.11/site-packages/ray/tune/tune.py:994\u001B[0m, in \u001B[0;36mrun\u001B[0;34m(run_or_experiment, name, metric, mode, stop, time_budget_s, config, resources_per_trial, num_samples, storage_path, storage_filesystem, search_alg, scheduler, checkpoint_config, verbose, progress_reporter, log_to_file, trial_name_creator, trial_dirname_creator, sync_config, export_formats, max_failures, fail_fast, restore, resume, resume_config, reuse_actors, raise_on_failed_trial, callbacks, max_concurrent_trials, keep_checkpoints_num, checkpoint_score_attr, checkpoint_freq, checkpoint_at_end, chdir_to_trial_dir, local_dir, _remote, _remote_string_queue, _entrypoint)\u001B[0m\n\u001B[1;32m    992\u001B[0m \u001B[38;5;28;01mtry\u001B[39;00m:\n\u001B[1;32m    993\u001B[0m     \u001B[38;5;28;01mwhile\u001B[39;00m \u001B[38;5;129;01mnot\u001B[39;00m runner\u001B[38;5;241m.\u001B[39mis_finished() \u001B[38;5;129;01mand\u001B[39;00m \u001B[38;5;129;01mnot\u001B[39;00m experiment_interrupted_event\u001B[38;5;241m.\u001B[39mis_set():\n\u001B[0;32m--> 994\u001B[0m         \u001B[43mrunner\u001B[49m\u001B[38;5;241;43m.\u001B[39;49m\u001B[43mstep\u001B[49m\u001B[43m(\u001B[49m\u001B[43m)\u001B[49m\n\u001B[1;32m    995\u001B[0m         \u001B[38;5;28;01mif\u001B[39;00m has_verbosity(Verbosity\u001B[38;5;241m.\u001B[39mV1_EXPERIMENT):\n\u001B[1;32m    996\u001B[0m             _report_progress(runner, progress_reporter)\n",
      "File \u001B[0;32m~/Documents/SharedDocuments/Uni/TU/3.Semester/AdvRL/SkyjoAI/.venv/lib/python3.11/site-packages/ray/tune/execution/tune_controller.py:679\u001B[0m, in \u001B[0;36mTuneController.step\u001B[0;34m(self)\u001B[0m\n\u001B[1;32m    674\u001B[0m     \u001B[38;5;28mself\u001B[39m\u001B[38;5;241m.\u001B[39m_callbacks\u001B[38;5;241m.\u001B[39mon_step_begin(\n\u001B[1;32m    675\u001B[0m         iteration\u001B[38;5;241m=\u001B[39m\u001B[38;5;28mself\u001B[39m\u001B[38;5;241m.\u001B[39m_iteration, trials\u001B[38;5;241m=\u001B[39m\u001B[38;5;28mself\u001B[39m\u001B[38;5;241m.\u001B[39m_trials\n\u001B[1;32m    676\u001B[0m     )\n\u001B[1;32m    678\u001B[0m \u001B[38;5;66;03m# Ask searcher for more trials\u001B[39;00m\n\u001B[0;32m--> 679\u001B[0m \u001B[38;5;28;43mself\u001B[39;49m\u001B[38;5;241;43m.\u001B[39;49m\u001B[43m_maybe_update_trial_queue\u001B[49m\u001B[43m(\u001B[49m\u001B[43m)\u001B[49m\n\u001B[1;32m    681\u001B[0m \u001B[38;5;66;03m# Start actors for added trials\u001B[39;00m\n\u001B[1;32m    682\u001B[0m \u001B[38;5;28mself\u001B[39m\u001B[38;5;241m.\u001B[39m_maybe_add_actors()\n",
      "File \u001B[0;32m~/Documents/SharedDocuments/Uni/TU/3.Semester/AdvRL/SkyjoAI/.venv/lib/python3.11/site-packages/ray/tune/execution/tune_controller.py:779\u001B[0m, in \u001B[0;36mTuneController._maybe_update_trial_queue\u001B[0;34m(self)\u001B[0m\n\u001B[1;32m    774\u001B[0m dont_wait_for_trial \u001B[38;5;241m=\u001B[39m (\n\u001B[1;32m    775\u001B[0m     \u001B[38;5;28mself\u001B[39m\u001B[38;5;241m.\u001B[39m_pending_trials \u001B[38;5;129;01mor\u001B[39;00m \u001B[38;5;28mself\u001B[39m\u001B[38;5;241m.\u001B[39m_running_trials \u001B[38;5;129;01mor\u001B[39;00m \u001B[38;5;28mself\u001B[39m\u001B[38;5;241m.\u001B[39m_paused_trials\n\u001B[1;32m    776\u001B[0m )\n\u001B[1;32m    778\u001B[0m \u001B[38;5;28;01mwhile\u001B[39;00m \u001B[38;5;28mlen\u001B[39m(\u001B[38;5;28mself\u001B[39m\u001B[38;5;241m.\u001B[39m_pending_trials) \u001B[38;5;241m<\u001B[39m \u001B[38;5;28mself\u001B[39m\u001B[38;5;241m.\u001B[39m_max_pending_trials:\n\u001B[0;32m--> 779\u001B[0m     \u001B[38;5;28;01mif\u001B[39;00m \u001B[38;5;129;01mnot\u001B[39;00m \u001B[38;5;28;43mself\u001B[39;49m\u001B[38;5;241;43m.\u001B[39;49m\u001B[43m_update_trial_queue\u001B[49m\u001B[43m(\u001B[49m\u001B[43mblocking\u001B[49m\u001B[38;5;241;43m=\u001B[39;49m\u001B[38;5;129;43;01mnot\u001B[39;49;00m\u001B[43m \u001B[49m\u001B[43mdont_wait_for_trial\u001B[49m\u001B[43m)\u001B[49m:\n\u001B[1;32m    780\u001B[0m         \u001B[38;5;28;01mbreak\u001B[39;00m\n\u001B[1;32m    781\u001B[0m     dont_wait_for_trial \u001B[38;5;241m=\u001B[39m \u001B[38;5;28;01mTrue\u001B[39;00m\n",
      "File \u001B[0;32m~/Documents/SharedDocuments/Uni/TU/3.Semester/AdvRL/SkyjoAI/.venv/lib/python3.11/site-packages/ray/tune/execution/tune_controller.py:582\u001B[0m, in \u001B[0;36mTuneController._update_trial_queue\u001B[0;34m(self, blocking, timeout)\u001B[0m\n\u001B[1;32m    579\u001B[0m         time\u001B[38;5;241m.\u001B[39msleep(\u001B[38;5;241m1\u001B[39m)\n\u001B[1;32m    581\u001B[0m \u001B[38;5;28;01mif\u001B[39;00m trial:\n\u001B[0;32m--> 582\u001B[0m     \u001B[38;5;28;43mself\u001B[39;49m\u001B[38;5;241;43m.\u001B[39;49m\u001B[43madd_trial\u001B[49m\u001B[43m(\u001B[49m\u001B[43mtrial\u001B[49m\u001B[43m)\u001B[49m\n\u001B[1;32m    583\u001B[0m     \u001B[38;5;28;01mreturn\u001B[39;00m \u001B[38;5;28;01mTrue\u001B[39;00m\n\u001B[1;32m    585\u001B[0m \u001B[38;5;28;01mreturn\u001B[39;00m \u001B[38;5;28;01mFalse\u001B[39;00m\n",
      "File \u001B[0;32m~/Documents/SharedDocuments/Uni/TU/3.Semester/AdvRL/SkyjoAI/.venv/lib/python3.11/site-packages/ray/tune/execution/tune_controller.py:530\u001B[0m, in \u001B[0;36mTuneController.add_trial\u001B[0;34m(self, trial)\u001B[0m\n\u001B[1;32m    527\u001B[0m     trial\u001B[38;5;241m.\u001B[39mresolve_config_placeholders(\u001B[38;5;28mself\u001B[39m\u001B[38;5;241m.\u001B[39m_placeholder_resolvers)\n\u001B[1;32m    529\u001B[0m \u001B[38;5;66;03m# With trial.config resolved, create placement group factory if needed.\u001B[39;00m\n\u001B[0;32m--> 530\u001B[0m \u001B[43mtrial\u001B[49m\u001B[38;5;241;43m.\u001B[39;49m\u001B[43mcreate_placement_group_factory\u001B[49m\u001B[43m(\u001B[49m\u001B[43m)\u001B[49m\n\u001B[1;32m    532\u001B[0m \u001B[38;5;28mself\u001B[39m\u001B[38;5;241m.\u001B[39m_trials\u001B[38;5;241m.\u001B[39mappend(trial)\n\u001B[1;32m    533\u001B[0m \u001B[38;5;28;01mif\u001B[39;00m trial\u001B[38;5;241m.\u001B[39mstatus \u001B[38;5;241m!=\u001B[39m Trial\u001B[38;5;241m.\u001B[39mTERMINATED:\n",
      "File \u001B[0;32m~/Documents/SharedDocuments/Uni/TU/3.Semester/AdvRL/SkyjoAI/.venv/lib/python3.11/site-packages/ray/tune/experiment/trial.py:430\u001B[0m, in \u001B[0;36mTrial.create_placement_group_factory\u001B[0;34m(self)\u001B[0m\n\u001B[1;32m    425\u001B[0m     \u001B[38;5;28mself\u001B[39m\u001B[38;5;241m.\u001B[39mplacement_group_factory \u001B[38;5;241m=\u001B[39m (\n\u001B[1;32m    426\u001B[0m         \u001B[38;5;28mself\u001B[39m\u001B[38;5;241m.\u001B[39m_default_placement_group_factory \u001B[38;5;129;01mor\u001B[39;00m resource_dict_to_pg_factory()\n\u001B[1;32m    427\u001B[0m     )\n\u001B[1;32m    428\u001B[0m     \u001B[38;5;28;01mreturn\u001B[39;00m\n\u001B[0;32m--> 430\u001B[0m default_resources \u001B[38;5;241m=\u001B[39m \u001B[43mtrainable_cls\u001B[49m\u001B[38;5;241;43m.\u001B[39;49m\u001B[43mdefault_resource_request\u001B[49m\u001B[43m(\u001B[49m\u001B[38;5;28;43mself\u001B[39;49m\u001B[38;5;241;43m.\u001B[39;49m\u001B[43mconfig\u001B[49m\u001B[43m)\u001B[49m\n\u001B[1;32m    432\u001B[0m \u001B[38;5;66;03m# If Trainable returns resources, do not allow manual override via\u001B[39;00m\n\u001B[1;32m    433\u001B[0m \u001B[38;5;66;03m# `resources_per_trial` by the user.\u001B[39;00m\n\u001B[1;32m    434\u001B[0m \u001B[38;5;28;01mif\u001B[39;00m default_resources \u001B[38;5;129;01mand\u001B[39;00m \u001B[38;5;28mself\u001B[39m\u001B[38;5;241m.\u001B[39m_default_placement_group_factory:\n",
      "File \u001B[0;32m~/Documents/SharedDocuments/Uni/TU/3.Semester/AdvRL/SkyjoAI/.venv/lib/python3.11/site-packages/ray/rllib/algorithms/algorithm.py:2959\u001B[0m, in \u001B[0;36mAlgorithm.default_resource_request\u001B[0;34m(cls, config)\u001B[0m\n\u001B[1;32m   2946\u001B[0m \u001B[38;5;129m@OverrideToImplementCustomLogic\u001B[39m\n\u001B[1;32m   2947\u001B[0m \u001B[38;5;129m@classmethod\u001B[39m\n\u001B[1;32m   2948\u001B[0m \u001B[38;5;129m@override\u001B[39m(Trainable)\n\u001B[0;32m   (...)\u001B[0m\n\u001B[1;32m   2957\u001B[0m \n\u001B[1;32m   2958\u001B[0m     \u001B[38;5;66;03m# Convenience config handles.\u001B[39;00m\n\u001B[0;32m-> 2959\u001B[0m     cf \u001B[38;5;241m=\u001B[39m \u001B[38;5;28;43mcls\u001B[39;49m\u001B[38;5;241;43m.\u001B[39;49m\u001B[43mget_default_config\u001B[49m\u001B[43m(\u001B[49m\u001B[43m)\u001B[49m\u001B[38;5;241;43m.\u001B[39;49m\u001B[43mupdate_from_dict\u001B[49m\u001B[43m(\u001B[49m\u001B[43mconfig\u001B[49m\u001B[43m)\u001B[49m\n\u001B[1;32m   2960\u001B[0m     cf\u001B[38;5;241m.\u001B[39mvalidate()\n\u001B[1;32m   2961\u001B[0m     cf\u001B[38;5;241m.\u001B[39mfreeze()\n",
      "File \u001B[0;32m~/Documents/SharedDocuments/Uni/TU/3.Semester/AdvRL/SkyjoAI/.venv/lib/python3.11/site-packages/ray/rllib/algorithms/algorithm_config.py:730\u001B[0m, in \u001B[0;36mAlgorithmConfig.update_from_dict\u001B[0;34m(self, config_dict)\u001B[0m\n\u001B[1;32m    716\u001B[0m \u001B[38;5;28;01melif\u001B[39;00m key \u001B[38;5;241m==\u001B[39m \u001B[38;5;124m\"\u001B[39m\u001B[38;5;124mmultiagent\u001B[39m\u001B[38;5;124m\"\u001B[39m:\n\u001B[1;32m    717\u001B[0m     kwargs \u001B[38;5;241m=\u001B[39m {\n\u001B[1;32m    718\u001B[0m         k: value[k]\n\u001B[1;32m    719\u001B[0m         \u001B[38;5;28;01mfor\u001B[39;00m k \u001B[38;5;129;01min\u001B[39;00m [\n\u001B[0;32m   (...)\u001B[0m\n\u001B[1;32m    728\u001B[0m         \u001B[38;5;28;01mif\u001B[39;00m k \u001B[38;5;129;01min\u001B[39;00m value\n\u001B[1;32m    729\u001B[0m     }\n\u001B[0;32m--> 730\u001B[0m     \u001B[38;5;28;43mself\u001B[39;49m\u001B[38;5;241;43m.\u001B[39;49m\u001B[43mmulti_agent\u001B[49m\u001B[43m(\u001B[49m\u001B[38;5;241;43m*\u001B[39;49m\u001B[38;5;241;43m*\u001B[39;49m\u001B[43mkwargs\u001B[49m\u001B[43m)\u001B[49m\n\u001B[1;32m    731\u001B[0m \u001B[38;5;66;03m# Some keys specify config sub-dicts and therefore should go through the\u001B[39;00m\n\u001B[1;32m    732\u001B[0m \u001B[38;5;66;03m# correct methods to properly `.update()` those from given config dict\u001B[39;00m\n\u001B[1;32m    733\u001B[0m \u001B[38;5;66;03m# (to not lose any sub-keys).\u001B[39;00m\n\u001B[1;32m    734\u001B[0m \u001B[38;5;28;01melif\u001B[39;00m key \u001B[38;5;241m==\u001B[39m \u001B[38;5;124m\"\u001B[39m\u001B[38;5;124mcallbacks_class\u001B[39m\u001B[38;5;124m\"\u001B[39m \u001B[38;5;129;01mand\u001B[39;00m value \u001B[38;5;241m!=\u001B[39m NOT_SERIALIZABLE:\n\u001B[1;32m    735\u001B[0m     \u001B[38;5;66;03m# For backward compatibility reasons, only resolve possible\u001B[39;00m\n\u001B[1;32m    736\u001B[0m     \u001B[38;5;66;03m# classpath if value is a str type.\u001B[39;00m\n",
      "File \u001B[0;32m~/Documents/SharedDocuments/Uni/TU/3.Semester/AdvRL/SkyjoAI/.venv/lib/python3.11/site-packages/ray/rllib/algorithms/algorithm_config.py:2765\u001B[0m, in \u001B[0;36mAlgorithmConfig.multi_agent\u001B[0;34m(self, policies, policy_map_capacity, policy_mapping_fn, policies_to_train, policy_states_are_swappable, observation_fn, count_steps_by, algorithm_config_overrides_per_module, replay_mode, policy_map_cache)\u001B[0m\n\u001B[1;32m   2761\u001B[0m \u001B[38;5;28;01mif\u001B[39;00m policies \u001B[38;5;129;01mis\u001B[39;00m \u001B[38;5;129;01mnot\u001B[39;00m NotProvided:\n\u001B[1;32m   2762\u001B[0m     \u001B[38;5;66;03m# Make sure our Policy IDs are ok (this should work whether `policies`\u001B[39;00m\n\u001B[1;32m   2763\u001B[0m     \u001B[38;5;66;03m# is a dict or just any Sequence).\u001B[39;00m\n\u001B[1;32m   2764\u001B[0m     \u001B[38;5;28;01mfor\u001B[39;00m pid \u001B[38;5;129;01min\u001B[39;00m policies:\n\u001B[0;32m-> 2765\u001B[0m         \u001B[43mvalidate_module_id\u001B[49m\u001B[43m(\u001B[49m\u001B[43mpid\u001B[49m\u001B[43m,\u001B[49m\u001B[43m \u001B[49m\u001B[43merror\u001B[49m\u001B[38;5;241;43m=\u001B[39;49m\u001B[38;5;28;43;01mTrue\u001B[39;49;00m\u001B[43m)\u001B[49m\n\u001B[1;32m   2767\u001B[0m     \u001B[38;5;66;03m# Collection: Convert to dict.\u001B[39;00m\n\u001B[1;32m   2768\u001B[0m     \u001B[38;5;28;01mif\u001B[39;00m \u001B[38;5;28misinstance\u001B[39m(policies, (\u001B[38;5;28mset\u001B[39m, \u001B[38;5;28mtuple\u001B[39m, \u001B[38;5;28mlist\u001B[39m)):\n",
      "File \u001B[0;32m~/Documents/SharedDocuments/Uni/TU/3.Semester/AdvRL/SkyjoAI/.venv/lib/python3.11/site-packages/ray/rllib/core/rl_module/__init__.py:42\u001B[0m, in \u001B[0;36mvalidate_module_id\u001B[0;34m(policy_id, error)\u001B[0m\n\u001B[1;32m     36\u001B[0m msg \u001B[38;5;241m=\u001B[39m (\n\u001B[1;32m     37\u001B[0m     \u001B[38;5;124mf\u001B[39m\u001B[38;5;124m\"\u001B[39m\u001B[38;5;124mPolicyID `\u001B[39m\u001B[38;5;132;01m{\u001B[39;00mpolicy_id\u001B[38;5;132;01m}\u001B[39;00m\u001B[38;5;124m` not valid! IDs must be a non-empty string, \u001B[39m\u001B[38;5;124m\"\u001B[39m\n\u001B[1;32m     38\u001B[0m     \u001B[38;5;124m\"\u001B[39m\u001B[38;5;124mmust not contain characters that are also disallowed file- or directory \u001B[39m\u001B[38;5;124m\"\u001B[39m\n\u001B[1;32m     39\u001B[0m     \u001B[38;5;124m\"\u001B[39m\u001B[38;5;124mnames on Unix/Windows and must not end with a dot `.` or a space ` `.\u001B[39m\u001B[38;5;124m\"\u001B[39m\n\u001B[1;32m     40\u001B[0m )\n\u001B[1;32m     41\u001B[0m \u001B[38;5;28;01mif\u001B[39;00m error:\n\u001B[0;32m---> 42\u001B[0m     \u001B[38;5;28;01mraise\u001B[39;00m \u001B[38;5;167;01mValueError\u001B[39;00m(msg)\n\u001B[1;32m     43\u001B[0m \u001B[38;5;28;01melif\u001B[39;00m log_once(\u001B[38;5;124m\"\u001B[39m\u001B[38;5;124minvalid_policy_id\u001B[39m\u001B[38;5;124m\"\u001B[39m):\n\u001B[1;32m     44\u001B[0m     logger\u001B[38;5;241m.\u001B[39mwarning(msg)\n",
      "\u001B[0;31mValueError\u001B[0m: PolicyID `0` not valid! IDs must be a non-empty string, must not contain characters that are also disallowed file- or directory names on Unix/Windows and must not end with a dot `.` or a space ` `."
     ]
    }
   ],
   "execution_count": 5
  },
  {
   "metadata": {
    "ExecuteTime": {
     "end_time": "2024-12-02T21:00:38.415540Z",
     "start_time": "2024-12-02T21:00:29.169837Z"
    }
   },
   "cell_type": "code",
   "source": [
    "# Import necessary libraries\n",
    "import ray\n",
    "from ray import tune\n",
    "from ray.rllib.env import PettingZooEnv\n",
    "from ray.tune.registry import register_env\n",
    "from pettingzoo import ParallelEnv\n",
    "import numpy as np\n",
    "from environment import skyjo_env\n",
    "\n",
    "skyjo_env_cfg = {\"num_players\": 3, \"render_mode\":\"human\"}\n",
    "\n",
    "# Step 2: Register the Environment\n",
    "def env_creator(env_config):\n",
    "    return skyjo_env.env(**env_config)\n",
    "\n",
    "register_env(\"pettingzoo_skyjo\", lambda config: PettingZooEnv(env_creator(config)))\n",
    "\n",
    "# Step 3: Initialize Ray and Configure PPO\n",
    "ray.init()\n",
    "\n",
    "# ppo_config = {\n",
    "#     \"env\": \"pettingzoo_skyjo\",\n",
    "#     \"multiagent\": {\n",
    "#         \"policies\": {\n",
    "#             \"shared_policy\": (None, np.array([1]), 2, {})  # Custom policy setup\n",
    "#         },\n",
    "#         \"policy_mapping_fn\": (lambda agent_id, episode, **kwargs: \"shared_policy\"),\n",
    "#     },\n",
    "#     \"framework\": \"torch\",  # Can also use \"tf\" or \"tf2\"\n",
    "#     \"num_workers\": 1,  # Number of parallel workers\n",
    "# }\n",
    "env = PettingZooEnv(env_creator(skyjo_env_cfg))\n",
    "custom_config={\n",
    "    \"env\":\"pettingzoo_skyjo\",\n",
    "    \"model\": {\n",
    "        \"custom_model\": \"pa_model2\",\n",
    "    },\n",
    "    \"framework\": \"torch\",\n",
    "    # Use GPUs iff `RLLIB_NUM_GPUS` env var set to > 0.\n",
    "    \"num_gpus\": 1,\n",
    "    \"num_workers\": 4, #os.cpu_count() - 1,\n",
    "    \"num_gpus_per_worker\": 0.25,\n",
    "    \"multiagent\":{\n",
    "            \"policies\": {\n",
    "                name: (None, env.observation_space, env.action_space, {}) for name in env.agents\n",
    "            },\n",
    "            \"policy_mapping_fn\": lambda agent_id: agent_id\n",
    "    }\n",
    "}\n",
    "\n",
    "# Step 4: Train the Model Using Tune\n",
    "results = tune.run(\n",
    "    \"PPO\",\n",
    "    config=custom_config,\n",
    "    stop={\"training_iteration\": 50},  # Adjust as needed\n",
    "    checkpoint_freq=10,\n",
    ")\n",
    "\n",
    "# Step 5: Shut Down Ray\n",
    "ray.shutdown()"
   ],
   "id": "2916dde3148c650d",
   "outputs": [
    {
     "name": "stderr",
     "output_type": "stream",
     "text": [
      "2024-12-02 22:00:33,470\tINFO worker.py:1786 -- Started a local Ray instance.\n"
     ]
    },
    {
     "name": "stdout",
     "output_type": "stream",
     "text": [
      "Obs shape: (55,), type: <class 'tuple'>\n",
      "Action mask shape: (26,), type: <class 'tuple'>\n",
      "Observation space for agent 0: Dict('action_mask': Box(0, 1, (26,), int8), 'observations': Box(-24, 127, (55,), int8))\n",
      "Obs shape: (55,), type: <class 'tuple'>\n",
      "Action mask shape: (26,), type: <class 'tuple'>\n",
      "Observation space for agent 1: Dict('action_mask': Box(0, 1, (26,), int8), 'observations': Box(-24, 127, (55,), int8))\n",
      "Obs shape: (55,), type: <class 'tuple'>\n",
      "Action mask shape: (26,), type: <class 'tuple'>\n",
      "Observation space for agent 2: Dict('action_mask': Box(0, 1, (26,), int8), 'observations': Box(-24, 127, (55,), int8))\n"
     ]
    },
    {
     "ename": "AssertionError",
     "evalue": "Dict space element is not an instance of Space: key='0', space=Dict('action_mask': Box(0, 1, (26,), int8), 'observations': Box(-24, 127, (55,), int8))",
     "output_type": "error",
     "traceback": [
      "\u001B[0;31m---------------------------------------------------------------------------\u001B[0m",
      "\u001B[0;31mAssertionError\u001B[0m                            Traceback (most recent call last)",
      "Cell \u001B[0;32mIn[1], line 32\u001B[0m\n\u001B[1;32m     19\u001B[0m ray\u001B[38;5;241m.\u001B[39minit()\n\u001B[1;32m     21\u001B[0m \u001B[38;5;66;03m# ppo_config = {\u001B[39;00m\n\u001B[1;32m     22\u001B[0m \u001B[38;5;66;03m#     \"env\": \"pettingzoo_skyjo\",\u001B[39;00m\n\u001B[1;32m     23\u001B[0m \u001B[38;5;66;03m#     \"multiagent\": {\u001B[39;00m\n\u001B[0;32m   (...)\u001B[0m\n\u001B[1;32m     30\u001B[0m \u001B[38;5;66;03m#     \"num_workers\": 1,  # Number of parallel workers\u001B[39;00m\n\u001B[1;32m     31\u001B[0m \u001B[38;5;66;03m# }\u001B[39;00m\n\u001B[0;32m---> 32\u001B[0m env \u001B[38;5;241m=\u001B[39m \u001B[43mPettingZooEnv\u001B[49m\u001B[43m(\u001B[49m\u001B[43menv_creator\u001B[49m\u001B[43m(\u001B[49m\u001B[43mskyjo_env_cfg\u001B[49m\u001B[43m)\u001B[49m\u001B[43m)\u001B[49m\n\u001B[1;32m     33\u001B[0m custom_config\u001B[38;5;241m=\u001B[39m{\n\u001B[1;32m     34\u001B[0m     \u001B[38;5;124m\"\u001B[39m\u001B[38;5;124menv\u001B[39m\u001B[38;5;124m\"\u001B[39m:\u001B[38;5;124m\"\u001B[39m\u001B[38;5;124mpettingzoo_skyjo\u001B[39m\u001B[38;5;124m\"\u001B[39m,\n\u001B[1;32m     35\u001B[0m     \u001B[38;5;124m\"\u001B[39m\u001B[38;5;124mmodel\u001B[39m\u001B[38;5;124m\"\u001B[39m: {\n\u001B[0;32m   (...)\u001B[0m\n\u001B[1;32m     48\u001B[0m     }\n\u001B[1;32m     49\u001B[0m }\n\u001B[1;32m     51\u001B[0m \u001B[38;5;66;03m# Step 4: Train the Model Using Tune\u001B[39;00m\n",
      "File \u001B[0;32m~/Documents/SharedDocuments/Uni/TU/3.Semester/AdvRL/SkyjoAI/.venv/lib/python3.11/site-packages/ray/rllib/env/wrappers/pettingzoo_env.py:128\u001B[0m, in \u001B[0;36mPettingZooEnv.__init__\u001B[0;34m(self, env)\u001B[0m\n\u001B[1;32m    124\u001B[0m env\u001B[38;5;241m.\u001B[39mreset()\n\u001B[1;32m    126\u001B[0m \u001B[38;5;28mself\u001B[39m\u001B[38;5;241m.\u001B[39m_agent_ids \u001B[38;5;241m=\u001B[39m \u001B[38;5;28mset\u001B[39m(\u001B[38;5;28mself\u001B[39m\u001B[38;5;241m.\u001B[39menv\u001B[38;5;241m.\u001B[39magents)\n\u001B[0;32m--> 128\u001B[0m \u001B[38;5;28mself\u001B[39m\u001B[38;5;241m.\u001B[39mobservation_space \u001B[38;5;241m=\u001B[39m \u001B[43mgym\u001B[49m\u001B[38;5;241;43m.\u001B[39;49m\u001B[43mspaces\u001B[49m\u001B[38;5;241;43m.\u001B[39;49m\u001B[43mDict\u001B[49m\u001B[43m(\u001B[49m\n\u001B[1;32m    129\u001B[0m \u001B[43m    \u001B[49m\u001B[43m{\u001B[49m\u001B[43maid\u001B[49m\u001B[43m:\u001B[49m\u001B[43m \u001B[49m\u001B[38;5;28;43mself\u001B[39;49m\u001B[38;5;241;43m.\u001B[39;49m\u001B[43menv\u001B[49m\u001B[38;5;241;43m.\u001B[39;49m\u001B[43mobservation_space\u001B[49m\u001B[43m(\u001B[49m\u001B[43maid\u001B[49m\u001B[43m)\u001B[49m\u001B[43m \u001B[49m\u001B[38;5;28;43;01mfor\u001B[39;49;00m\u001B[43m \u001B[49m\u001B[43maid\u001B[49m\u001B[43m \u001B[49m\u001B[38;5;129;43;01min\u001B[39;49;00m\u001B[43m \u001B[49m\u001B[38;5;28;43mself\u001B[39;49m\u001B[38;5;241;43m.\u001B[39;49m\u001B[43m_agent_ids\u001B[49m\u001B[43m}\u001B[49m\n\u001B[1;32m    130\u001B[0m \u001B[43m\u001B[49m\u001B[43m)\u001B[49m\n\u001B[1;32m    131\u001B[0m \u001B[38;5;28mself\u001B[39m\u001B[38;5;241m.\u001B[39m_obs_space_in_preferred_format \u001B[38;5;241m=\u001B[39m \u001B[38;5;28;01mTrue\u001B[39;00m\n\u001B[1;32m    132\u001B[0m \u001B[38;5;28mself\u001B[39m\u001B[38;5;241m.\u001B[39maction_space \u001B[38;5;241m=\u001B[39m gym\u001B[38;5;241m.\u001B[39mspaces\u001B[38;5;241m.\u001B[39mDict(\n\u001B[1;32m    133\u001B[0m     {aid: \u001B[38;5;28mself\u001B[39m\u001B[38;5;241m.\u001B[39menv\u001B[38;5;241m.\u001B[39maction_space(aid) \u001B[38;5;28;01mfor\u001B[39;00m aid \u001B[38;5;129;01min\u001B[39;00m \u001B[38;5;28mself\u001B[39m\u001B[38;5;241m.\u001B[39m_agent_ids}\n\u001B[1;32m    134\u001B[0m )\n",
      "File \u001B[0;32m~/Documents/SharedDocuments/Uni/TU/3.Semester/AdvRL/SkyjoAI/.venv/lib/python3.11/site-packages/gymnasium/spaces/dict.py:99\u001B[0m, in \u001B[0;36mDict.__init__\u001B[0;34m(self, spaces, seed, **spaces_kwargs)\u001B[0m\n\u001B[1;32m     97\u001B[0m \u001B[38;5;28mself\u001B[39m\u001B[38;5;241m.\u001B[39mspaces: \u001B[38;5;28mdict\u001B[39m[\u001B[38;5;28mstr\u001B[39m, Space[Any]] \u001B[38;5;241m=\u001B[39m spaces\n\u001B[1;32m     98\u001B[0m \u001B[38;5;28;01mfor\u001B[39;00m key, space \u001B[38;5;129;01min\u001B[39;00m \u001B[38;5;28mself\u001B[39m\u001B[38;5;241m.\u001B[39mspaces\u001B[38;5;241m.\u001B[39mitems():\n\u001B[0;32m---> 99\u001B[0m     \u001B[38;5;28;01massert\u001B[39;00m \u001B[38;5;28misinstance\u001B[39m(\n\u001B[1;32m    100\u001B[0m         space, Space\n\u001B[1;32m    101\u001B[0m     ), \u001B[38;5;124mf\u001B[39m\u001B[38;5;124m\"\u001B[39m\u001B[38;5;124mDict space element is not an instance of Space: key=\u001B[39m\u001B[38;5;124m'\u001B[39m\u001B[38;5;132;01m{\u001B[39;00mkey\u001B[38;5;132;01m}\u001B[39;00m\u001B[38;5;124m'\u001B[39m\u001B[38;5;124m, space=\u001B[39m\u001B[38;5;132;01m{\u001B[39;00mspace\u001B[38;5;132;01m}\u001B[39;00m\u001B[38;5;124m\"\u001B[39m\n\u001B[1;32m    103\u001B[0m \u001B[38;5;66;03m# None for shape and dtype, since it'll require special handling\u001B[39;00m\n\u001B[1;32m    104\u001B[0m \u001B[38;5;28msuper\u001B[39m()\u001B[38;5;241m.\u001B[39m\u001B[38;5;21m__init__\u001B[39m(\u001B[38;5;28;01mNone\u001B[39;00m, \u001B[38;5;28;01mNone\u001B[39;00m, seed)\n",
      "\u001B[0;31mAssertionError\u001B[0m: Dict space element is not an instance of Space: key='0', space=Dict('action_mask': Box(0, 1, (26,), int8), 'observations': Box(-24, 127, (55,), int8))"
     ]
    }
   ],
   "execution_count": 1
  }
 ],
 "metadata": {
  "kernelspec": {
   "display_name": "Python 3",
   "language": "python",
   "name": "python3"
  },
  "language_info": {
   "codemirror_mode": {
    "name": "ipython",
    "version": 2
   },
   "file_extension": ".py",
   "mimetype": "text/x-python",
   "name": "python",
   "nbconvert_exporter": "python",
   "pygments_lexer": "ipython2",
   "version": "2.7.6"
  }
 },
 "nbformat": 4,
 "nbformat_minor": 5
}
